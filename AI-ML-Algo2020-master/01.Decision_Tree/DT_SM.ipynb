{
 "cells": [
  {
   "cell_type": "markdown",
   "metadata": {},
   "source": [
    "# Problem"
   ]
  },
  {
   "cell_type": "markdown",
   "metadata": {},
   "source": [
    "Here is the [dataset](https://archive.ics.uci.edu/ml/machine-learning-databases/00422/). The data set contains wifi signal strength observed from 7 wifi devices on a smartphone collected in indoor space. Predict location from wifi signal strength. Also report Accuracy, Confusion Matrix and F1 Score\n",
    "\n"
   ]
  },
  {
   "cell_type": "markdown",
   "metadata": {},
   "source": [
    "### Loading all modules"
   ]
  },
  {
   "cell_type": "code",
   "execution_count": 1,
   "metadata": {},
   "outputs": [],
   "source": [
    "import pandas as pd\n",
    "import numpy as np\n",
    "\n",
    "from sklearn import tree\n",
    "from sklearn.tree import DecisionTreeClassifier\n",
    "from sklearn.model_selection import train_test_split\n",
    "\n",
    "from sklearn.metrics import classification_report, accuracy_score, roc_curve, auc\n",
    "from sklearn.metrics import confusion_matrix, multilabel_confusion_matrix, plot_confusion_matrix\n",
    "from itertools import cycle\n",
    "\n",
    "import graphviz\n",
    "import matplotlib.pyplot as plt\n",
    "\n",
    "print_divider = \"*\"* 100"
   ]
  },
  {
   "cell_type": "markdown",
   "metadata": {},
   "source": [
    "### Decision Tree Classifier"
   ]
  },
  {
   "cell_type": "code",
   "execution_count": 2,
   "metadata": {},
   "outputs": [],
   "source": [
    "def sklearn_dt_classifier(X_train, y_train, crit='entropy'):\n",
    "    '''\n",
    "    X_train: Input features \n",
    "    y_train: Class label for the training data(X_train)\n",
    "    criterion: default is \"entropy\", it could be \"gini\" as well\n",
    "\n",
    "    returns:\n",
    "    clf_tree: df_classifier object \n",
    "    '''\n",
    "    clf_tree = DecisionTreeClassifier(criterion=crit)\n",
    "    clf_tree.fit(X_train, y_train)\n",
    "\n",
    "    return clf_tree"
   ]
  },
  {
   "cell_type": "markdown",
   "metadata": {},
   "source": [
    "### ROC AUC Curve Generator"
   ]
  },
  {
   "cell_type": "code",
   "execution_count": 3,
   "metadata": {},
   "outputs": [],
   "source": [
    "def roc_curve_generator(Y, y_test, y_pred, image_name):\n",
    "\n",
    "    # Total no. of unique class \n",
    "    n_classes = len(Y.unique())\n",
    "\n",
    "    # Compute ROC curve and ROC area for each class\n",
    "    fpr = dict()\n",
    "    tpr = dict()\n",
    "    roc_auc = dict()\n",
    "    roc_for_algo = dict() \n",
    "\n",
    "    for i in range(n_classes):\n",
    "        fpr[i], tpr[i], _ = roc_curve(np.array(pd.get_dummies(y_test))[:, i], np.array(pd.get_dummies(y_pred))[:, i])\n",
    "        roc_auc[i] = auc(fpr[i], tpr[i])\n",
    "\n",
    "    # Aggregate all false positive rates\n",
    "    all_fpr = np.unique(np.concatenate([fpr[i] for i in range(n_classes)]))\n",
    "\n",
    "    # Then interpolate all ROC curves at this points\n",
    "    mean_tpr = np.zeros_like(all_fpr)\n",
    "\n",
    "    for i in range(n_classes):\n",
    "        mean_tpr += np.interp(all_fpr, fpr[i], tpr[i])\n",
    "\n",
    "    # Final averaging it and compute AUC\n",
    "    mean_tpr /= n_classes\n",
    "\n",
    "    fpr[\"macro\"] = all_fpr\n",
    "    tpr[\"macro\"] = mean_tpr\n",
    "    roc_auc[\"macro\"] = auc(fpr[\"macro\"], tpr[\"macro\"])\n",
    "\n",
    "    # Plot the ROC curves\n",
    "    line_width=3\n",
    "    plt.figure(figsize=(10,10))\n",
    "    plt.plot(fpr[\"macro\"], tpr[\"macro\"],\n",
    "            label='macro-average ROC curve (area = {0:0.2f})'\n",
    "                ''.format(roc_auc[\"macro\"]),\n",
    "            color='green', linestyle=':', lw=line_width)\n",
    "\n",
    "    colors = cycle(['aqua', 'darkorange', 'cornflowerblue'])\n",
    "    for i, color in zip(range(n_classes), colors):\n",
    "        plt.plot(fpr[i], tpr[i], color=color, lw=line_width,\n",
    "                label='ROC curve of class {0} (area = {1:0.2f})'\n",
    "                ''.format(i, roc_auc[i]))\n",
    "\n",
    "    plt.plot([0, 1], [0, 1], 'k--',color='green', lw=line_width)\n",
    "    plt.xlim([0.0, 1.0])\n",
    "    plt.ylim([0.0, 1.05])\n",
    "    plt.xlabel('False Positive Rate(FPR)')\n",
    "    plt.ylabel('True Positive Rate(TPR)')\n",
    "    plt.title('ROC for the Decision Tree')\n",
    "    plt.legend(loc=\"lower right\")\n",
    "\n",
    "    # Uncomment it when using in .py\n",
    "    #plt.savefig(image_name)\n",
    "    \n",
    "    # Comment this when using in .py\n",
    "    plt.show()\n",
    "\n",
    "    roc_for_algo[\"roc_auc\"] = roc_auc\n",
    "    roc_for_algo[\"tpr\"] = tpr\n",
    "    roc_for_algo[\"fpr\"] = fpr\n",
    "\n",
    "    return roc_for_algo"
   ]
  },
  {
   "cell_type": "markdown",
   "metadata": {},
   "source": [
    "### Model Evaluation"
   ]
  },
  {
   "cell_type": "code",
   "execution_count": 4,
   "metadata": {},
   "outputs": [],
   "source": [
    "def model_evaluation(y_test, y_pred):\n",
    "    # Accuracy \n",
    "    accuracy = accuracy_score(y_test, y_pred)\n",
    "\n",
    "    # Confusion Matrix \n",
    "    cm = confusion_matrix(y_test, y_pred)\n",
    "\n",
    "    print(print_divider)\n",
    "    # Precision and Recall (Classification Report) \n",
    "    clf_report = classification_report(y_test, y_pred)\n",
    "    print(\"Classification Report\")\n",
    "    print(clf_report)\n",
    "    print(print_divider)\n",
    "\n",
    "    # Sensitivity and Specificity\n",
    "    mcm = multilabel_confusion_matrix(y_test, y_pred)\n",
    "    tn = mcm[:, 0, 0]\n",
    "    tp = mcm[:, 1, 1]\n",
    "    fn = mcm[:, 1, 0]\n",
    "    fp = mcm[:, 0, 1]\n",
    "    sensitivity = tp / (tp + fn) \n",
    "    specificity = tn / (tn + fp)\n",
    "    precision = tp / (tp + fp)\n",
    "\n",
    "    print(f\"Accuracy : {accuracy}\")\n",
    "    print(print_divider)\n",
    "    print(f\"Confusion Matrix : \\n {cm}\")\n",
    "    print(print_divider)\n",
    "    for c in range(len(precision)):\n",
    "        print(f\"Precision for class {c} : {precision[c]}\")\n",
    "    print(print_divider)\n",
    "    for c in range(len(sensitivity)):\n",
    "        print(f\"Sensitivity for class {c} : {sensitivity[c]}\")\n",
    "    print(print_divider)\n",
    "    for c in range(len(specificity)):\n",
    "        print(f\"Specificity for class {c} : {specificity[c]}\")\n",
    "    print(print_divider)"
   ]
  },
  {
   "cell_type": "markdown",
   "metadata": {},
   "source": [
    "### Visualize the Decision Tree"
   ]
  },
  {
   "cell_type": "code",
   "execution_count": 5,
   "metadata": {},
   "outputs": [],
   "source": [
    "def dt_graph(clf_tree, data_df):\n",
    "\n",
    "    dot_data = tree.export_graphviz(clf_tree, out_file=None, \n",
    "                        feature_names=data_df.columns[:-1],  \n",
    "                        class_names=data_df.columns[-1],  \n",
    "                        filled=True, rounded=True,  \n",
    "                        special_characters=True)  \n",
    "    graph = graphviz.Source(dot_data)  \n",
    "    graph.render(filename='DT_Graph')\n",
    "    f_name = 'DT_Graph.pdf'\n",
    "    print(f\"Visual Graph of the Decision Tree is saved at the present working directory with file name : {f_name}\")\n",
    "    "
   ]
  },
  {
   "cell_type": "markdown",
   "metadata": {},
   "source": [
    "### Main Function Starts from here"
   ]
  },
  {
   "cell_type": "markdown",
   "metadata": {},
   "source": [
    "#### 1. Loading the dataset"
   ]
  },
  {
   "cell_type": "code",
   "execution_count": 6,
   "metadata": {},
   "outputs": [],
   "source": [
    "input_file = \"wifi_localization.txt\"\n",
    "df = pd.read_csv(input_file, delimiter=\"\\t\", header=None)\n",
    "df = df.sample(frac=1).reset_index(drop=True)\n",
    "df.columns = [\"x1\", \"x2\", \"x3\", \"x4\", \"x5\", \"x6\", \"x7\", \"class_label\"]\n",
    "\n",
    "# Create X (Input features)\n",
    "X = df.drop(\"class_label\", axis=1)\n",
    "# Create y (Target label)\n",
    "Y = df[\"class_label\"]"
   ]
  },
  {
   "cell_type": "markdown",
   "metadata": {},
   "source": [
    "#### 2. Spliting the dataset"
   ]
  },
  {
   "cell_type": "code",
   "execution_count": 7,
   "metadata": {},
   "outputs": [],
   "source": [
    "X_train, X_test, y_train, y_test = train_test_split(X, Y, test_size=.20)"
   ]
  },
  {
   "cell_type": "code",
   "execution_count": 8,
   "metadata": {},
   "outputs": [
    {
     "data": {
      "text/html": [
       "<div>\n",
       "<style scoped>\n",
       "    .dataframe tbody tr th:only-of-type {\n",
       "        vertical-align: middle;\n",
       "    }\n",
       "\n",
       "    .dataframe tbody tr th {\n",
       "        vertical-align: top;\n",
       "    }\n",
       "\n",
       "    .dataframe thead th {\n",
       "        text-align: right;\n",
       "    }\n",
       "</style>\n",
       "<table border=\"1\" class=\"dataframe\">\n",
       "  <thead>\n",
       "    <tr style=\"text-align: right;\">\n",
       "      <th></th>\n",
       "      <th>x1</th>\n",
       "      <th>x2</th>\n",
       "      <th>x3</th>\n",
       "      <th>x4</th>\n",
       "      <th>x5</th>\n",
       "      <th>x6</th>\n",
       "      <th>x7</th>\n",
       "    </tr>\n",
       "  </thead>\n",
       "  <tbody>\n",
       "    <tr>\n",
       "      <th>122</th>\n",
       "      <td>-10</td>\n",
       "      <td>-58</td>\n",
       "      <td>-62</td>\n",
       "      <td>-20</td>\n",
       "      <td>-73</td>\n",
       "      <td>-76</td>\n",
       "      <td>-74</td>\n",
       "    </tr>\n",
       "    <tr>\n",
       "      <th>536</th>\n",
       "      <td>-48</td>\n",
       "      <td>-60</td>\n",
       "      <td>-57</td>\n",
       "      <td>-52</td>\n",
       "      <td>-61</td>\n",
       "      <td>-85</td>\n",
       "      <td>-84</td>\n",
       "    </tr>\n",
       "    <tr>\n",
       "      <th>1916</th>\n",
       "      <td>-50</td>\n",
       "      <td>-49</td>\n",
       "      <td>-54</td>\n",
       "      <td>-48</td>\n",
       "      <td>-62</td>\n",
       "      <td>-79</td>\n",
       "      <td>-75</td>\n",
       "    </tr>\n",
       "    <tr>\n",
       "      <th>30</th>\n",
       "      <td>-59</td>\n",
       "      <td>-52</td>\n",
       "      <td>-58</td>\n",
       "      <td>-65</td>\n",
       "      <td>-66</td>\n",
       "      <td>-82</td>\n",
       "      <td>-80</td>\n",
       "    </tr>\n",
       "    <tr>\n",
       "      <th>88</th>\n",
       "      <td>-17</td>\n",
       "      <td>-74</td>\n",
       "      <td>-60</td>\n",
       "      <td>-15</td>\n",
       "      <td>-73</td>\n",
       "      <td>-71</td>\n",
       "      <td>-80</td>\n",
       "    </tr>\n",
       "  </tbody>\n",
       "</table>\n",
       "</div>"
      ],
      "text/plain": [
       "      x1  x2  x3  x4  x5  x6  x7\n",
       "122  -10 -58 -62 -20 -73 -76 -74\n",
       "536  -48 -60 -57 -52 -61 -85 -84\n",
       "1916 -50 -49 -54 -48 -62 -79 -75\n",
       "30   -59 -52 -58 -65 -66 -82 -80\n",
       "88   -17 -74 -60 -15 -73 -71 -80"
      ]
     },
     "execution_count": 8,
     "metadata": {},
     "output_type": "execute_result"
    }
   ],
   "source": [
    "X_train.head()"
   ]
  },
  {
   "cell_type": "code",
   "execution_count": 9,
   "metadata": {},
   "outputs": [
    {
     "data": {
      "text/plain": [
       "122     2\n",
       "536     3\n",
       "1916    3\n",
       "30      1\n",
       "88      2\n",
       "Name: class_label, dtype: int64"
      ]
     },
     "execution_count": 9,
     "metadata": {},
     "output_type": "execute_result"
    }
   ],
   "source": [
    "y_train.head()"
   ]
  },
  {
   "cell_type": "code",
   "execution_count": 10,
   "metadata": {},
   "outputs": [
    {
     "data": {
      "text/html": [
       "<div>\n",
       "<style scoped>\n",
       "    .dataframe tbody tr th:only-of-type {\n",
       "        vertical-align: middle;\n",
       "    }\n",
       "\n",
       "    .dataframe tbody tr th {\n",
       "        vertical-align: top;\n",
       "    }\n",
       "\n",
       "    .dataframe thead th {\n",
       "        text-align: right;\n",
       "    }\n",
       "</style>\n",
       "<table border=\"1\" class=\"dataframe\">\n",
       "  <thead>\n",
       "    <tr style=\"text-align: right;\">\n",
       "      <th></th>\n",
       "      <th>x1</th>\n",
       "      <th>x2</th>\n",
       "      <th>x3</th>\n",
       "      <th>x4</th>\n",
       "      <th>x5</th>\n",
       "      <th>x6</th>\n",
       "      <th>x7</th>\n",
       "    </tr>\n",
       "  </thead>\n",
       "  <tbody>\n",
       "    <tr>\n",
       "      <th>15</th>\n",
       "      <td>-50</td>\n",
       "      <td>-55</td>\n",
       "      <td>-51</td>\n",
       "      <td>-57</td>\n",
       "      <td>-58</td>\n",
       "      <td>-86</td>\n",
       "      <td>-86</td>\n",
       "    </tr>\n",
       "    <tr>\n",
       "      <th>1456</th>\n",
       "      <td>-46</td>\n",
       "      <td>-46</td>\n",
       "      <td>-52</td>\n",
       "      <td>-52</td>\n",
       "      <td>-57</td>\n",
       "      <td>-77</td>\n",
       "      <td>-82</td>\n",
       "    </tr>\n",
       "    <tr>\n",
       "      <th>524</th>\n",
       "      <td>-68</td>\n",
       "      <td>-58</td>\n",
       "      <td>-65</td>\n",
       "      <td>-67</td>\n",
       "      <td>-83</td>\n",
       "      <td>-89</td>\n",
       "      <td>-86</td>\n",
       "    </tr>\n",
       "    <tr>\n",
       "      <th>485</th>\n",
       "      <td>-52</td>\n",
       "      <td>-56</td>\n",
       "      <td>-51</td>\n",
       "      <td>-46</td>\n",
       "      <td>-63</td>\n",
       "      <td>-86</td>\n",
       "      <td>-82</td>\n",
       "    </tr>\n",
       "    <tr>\n",
       "      <th>926</th>\n",
       "      <td>-56</td>\n",
       "      <td>-55</td>\n",
       "      <td>-44</td>\n",
       "      <td>-61</td>\n",
       "      <td>-51</td>\n",
       "      <td>-84</td>\n",
       "      <td>-87</td>\n",
       "    </tr>\n",
       "  </tbody>\n",
       "</table>\n",
       "</div>"
      ],
      "text/plain": [
       "      x1  x2  x3  x4  x5  x6  x7\n",
       "15   -50 -55 -51 -57 -58 -86 -86\n",
       "1456 -46 -46 -52 -52 -57 -77 -82\n",
       "524  -68 -58 -65 -67 -83 -89 -86\n",
       "485  -52 -56 -51 -46 -63 -86 -82\n",
       "926  -56 -55 -44 -61 -51 -84 -87"
      ]
     },
     "execution_count": 10,
     "metadata": {},
     "output_type": "execute_result"
    }
   ],
   "source": [
    "X_test.head()"
   ]
  },
  {
   "cell_type": "code",
   "execution_count": 11,
   "metadata": {},
   "outputs": [
    {
     "data": {
      "text/plain": [
       "(1600, 7)"
      ]
     },
     "execution_count": 11,
     "metadata": {},
     "output_type": "execute_result"
    }
   ],
   "source": [
    "X_train.shape"
   ]
  },
  {
   "cell_type": "code",
   "execution_count": 12,
   "metadata": {},
   "outputs": [
    {
     "data": {
      "text/plain": [
       "(400, 7)"
      ]
     },
     "execution_count": 12,
     "metadata": {},
     "output_type": "execute_result"
    }
   ],
   "source": [
    "X_test.shape"
   ]
  },
  {
   "cell_type": "markdown",
   "metadata": {},
   "source": [
    "#### 3. Decision Tree Classifier "
   ]
  },
  {
   "cell_type": "code",
   "execution_count": 13,
   "metadata": {},
   "outputs": [],
   "source": [
    "clf_tree = sklearn_dt_classifier(X_train, y_train, crit='entropy')"
   ]
  },
  {
   "cell_type": "code",
   "execution_count": 14,
   "metadata": {},
   "outputs": [
    {
     "data": {
      "text/plain": [
       "DecisionTreeClassifier(ccp_alpha=0.0, class_weight=None, criterion='entropy',\n",
       "                       max_depth=None, max_features=None, max_leaf_nodes=None,\n",
       "                       min_impurity_decrease=0.0, min_impurity_split=None,\n",
       "                       min_samples_leaf=1, min_samples_split=2,\n",
       "                       min_weight_fraction_leaf=0.0, presort='deprecated',\n",
       "                       random_state=None, splitter='best')"
      ]
     },
     "execution_count": 14,
     "metadata": {},
     "output_type": "execute_result"
    }
   ],
   "source": [
    "clf_tree"
   ]
  },
  {
   "cell_type": "markdown",
   "metadata": {},
   "source": [
    "#### 4. Predecting the Result "
   ]
  },
  {
   "cell_type": "code",
   "execution_count": 15,
   "metadata": {},
   "outputs": [],
   "source": [
    "y_pred = clf_tree.predict(X_test)"
   ]
  },
  {
   "cell_type": "markdown",
   "metadata": {},
   "source": [
    "#### 5. Evaluating the Performance "
   ]
  },
  {
   "cell_type": "code",
   "execution_count": 16,
   "metadata": {},
   "outputs": [
    {
     "name": "stdout",
     "output_type": "stream",
     "text": [
      "Model Evaluation for 'SCI-KIT LEARN DECISION TREE CLASSIFIER'\n",
      "****************************************************************************************************\n",
      "Classification Report\n",
      "              precision    recall  f1-score   support\n",
      "\n",
      "           1       1.00      0.98      0.99       100\n",
      "           2       0.98      0.94      0.96       114\n",
      "           3       0.91      0.97      0.94        89\n",
      "           4       0.98      1.00      0.99        97\n",
      "\n",
      "    accuracy                           0.97       400\n",
      "   macro avg       0.97      0.97      0.97       400\n",
      "weighted avg       0.97      0.97      0.97       400\n",
      "\n",
      "****************************************************************************************************\n",
      "Accuracy : 0.97\n",
      "****************************************************************************************************\n",
      "Confusion Matrix : \n",
      " [[ 98   0   1   1]\n",
      " [  0 107   7   0]\n",
      " [  0   2  86   1]\n",
      " [  0   0   0  97]]\n",
      "****************************************************************************************************\n",
      "Precision for class 0 : 1.0\n",
      "Precision for class 1 : 0.981651376146789\n",
      "Precision for class 2 : 0.9148936170212766\n",
      "Precision for class 3 : 0.9797979797979798\n",
      "****************************************************************************************************\n",
      "Sensitivity for class 0 : 0.98\n",
      "Sensitivity for class 1 : 0.9385964912280702\n",
      "Sensitivity for class 2 : 0.9662921348314607\n",
      "Sensitivity for class 3 : 1.0\n",
      "****************************************************************************************************\n",
      "Specificity for class 0 : 1.0\n",
      "Specificity for class 1 : 0.993006993006993\n",
      "Specificity for class 2 : 0.9742765273311897\n",
      "Specificity for class 3 : 0.9933993399339934\n",
      "****************************************************************************************************\n"
     ]
    }
   ],
   "source": [
    "print(\"Model Evaluation for 'SCI-KIT LEARN DECISION TREE CLASSIFIER'\")\n",
    "model_evaluation(y_test, y_pred)"
   ]
  },
  {
   "cell_type": "markdown",
   "metadata": {},
   "source": [
    "#### 6. ROC Curve for Decision Tree "
   ]
  },
  {
   "cell_type": "code",
   "execution_count": 17,
   "metadata": {},
   "outputs": [
    {
     "data": {
      "image/png": "[encoded data removed]",
      "text/plain": [
       "<Figure size 720x720 with 1 Axes>"
      ]
     },
     "metadata": {},
     "output_type": "display_data"
    }
   ],
   "source": [
    "roc_for_dt = roc_curve_generator(Y=Y, y_test=y_test, y_pred=y_pred, image_name=\"ROC_CURVE_SKLEARN_DT.png\")"
   ]
  },
  {
   "cell_type": "markdown",
   "metadata": {},
   "source": [
    "#### 6. Confusion Matrix"
   ]
  },
  {
   "cell_type": "code",
   "execution_count": 18,
   "metadata": {},
   "outputs": [
    {
     "data": {
      "text/plain": [
       "<sklearn.metrics._plot.confusion_matrix.ConfusionMatrixDisplay at 0x7fab6c08bb00>"
      ]
     },
     "execution_count": 18,
     "metadata": {},
     "output_type": "execute_result"
    },
    {
     "data": {
      "image/png": "[encoded data removed]",
      "text/plain": [
       "<Figure size 432x288 with 2 Axes>"
      ]
     },
     "metadata": {},
     "output_type": "display_data"
    }
   ],
   "source": [
    "plot_confusion_matrix(clf_tree, X_test, y_test, values_format='d')"
   ]
  },
  {
   "cell_type": "markdown",
   "metadata": {},
   "source": [
    "#### 5. Plot and visualize your Decision Tree\n"
   ]
  },
  {
   "cell_type": "code",
   "execution_count": 19,
   "metadata": {},
   "outputs": [
    {
     "name": "stdout",
     "output_type": "stream",
     "text": [
      "Visual Graph of the Decision Tree is saved at the present working directory with file name : DT_Graph.pdf\n"
     ]
    }
   ],
   "source": [
    "dt_graph(clf_tree, df)"
   ]
  },
  {
   "cell_type": "code",
   "execution_count": null,
   "metadata": {},
   "outputs": [],
   "source": []
  }
 ],
 "metadata": {
  "kernelspec": {
   "display_name": "conda_python3",
   "language": "python",
   "name": "conda_python3"
  },
  "language_info": {
   "codemirror_mode": {
    "name": "ipython",
    "version": 3
   },
   "file_extension": ".py",
   "mimetype": "text/x-python",
   "name": "python",
   "nbconvert_exporter": "python",
   "pygments_lexer": "ipython3",
   "version": "3.6.5"
  }
 },
 "nbformat": 4,
 "nbformat_minor": 4
}
